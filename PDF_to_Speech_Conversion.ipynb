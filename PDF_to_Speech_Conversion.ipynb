{
  "metadata": {
    "kernelspec": {
      "language": "python",
      "display_name": "Python 3",
      "name": "python3"
    },
    "language_info": {
      "name": "python",
      "version": "3.10.14",
      "mimetype": "text/x-python",
      "codemirror_mode": {
        "name": "ipython",
        "version": 3
      },
      "pygments_lexer": "ipython3",
      "nbconvert_exporter": "python",
      "file_extension": ".py"
    },
    "kaggle": {
      "accelerator": "gpu",
      "dataSources": [
        {
          "sourceId": 9368720,
          "sourceType": "datasetVersion",
          "datasetId": 5681655
        },
        {
          "sourceId": 9369979,
          "sourceType": "datasetVersion",
          "datasetId": 5682673
        },
        {
          "sourceId": 9370027,
          "sourceType": "datasetVersion",
          "datasetId": 5682714
        }
      ],
      "dockerImageVersionId": 30762,
      "isInternetEnabled": true,
      "language": "python",
      "sourceType": "notebook",
      "isGpuEnabled": true
    },
    "colab": {
      "provenance": []
    }
  },
  "nbformat_minor": 0,
  "nbformat": 4,
  "cells": [
    {
      "cell_type": "markdown",
      "source": [
        "# Introduction\n",
        "\n",
        "This notebook demonstrates how to extract text from a PDF file and convert it into natural-sounding speech using Microsoft's neural voices via the edge_tts library. It automates the process of extracting text from the PDF using pdfplumber and then synthesizing the text into speech using a pre-selected neural voice.\n",
        "\n",
        "The steps involved in this notebook include:\n",
        "\n",
        "1. Installing necessary libraries for text extraction and text-to-speech (TTS).\n",
        "2. Extracting text from a PDF file.\n",
        "3. Selecting a neural voice for speech synthesis.\n",
        "4. Converting the extracted text into speech with the option to adjust the speed of the voice.\n",
        "5. Saving the generated audio as an MP3 file.\n",
        "\n",
        "\n",
        "\n",
        "This notebook is designed to work with a variety of text-heavy documents, allowing users to quickly extract key insights and summaries from large volumes of text."
      ],
      "metadata": {
        "id": "gB1oY7020q3L"
      }
    },
    {
      "cell_type": "markdown",
      "source": [
        "# PDF to Speech Conversion Using `edge_tts`:"
      ],
      "metadata": {
        "id": "grI_VCbr0q3O"
      }
    },
    {
      "cell_type": "markdown",
      "source": [
        "### 1. Library Installation"
      ],
      "metadata": {
        "id": "QVJXgsUy0q3O"
      }
    },
    {
      "cell_type": "code",
      "source": [
        "# Install necessary libraries if not installed\n",
        "!pip install edge-tts\n",
        "!pip install pdfplumber"
      ],
      "metadata": {
        "_uuid": "8f2839f25d086af736a60e9eeb907d3b93b6e0e5",
        "_cell_guid": "b1076dfc-b9ad-4769-8c92-a6c4dae69d19",
        "trusted": true,
        "colab": {
          "base_uri": "https://localhost:8080/"
        },
        "id": "LG01dUQe0q3P",
        "outputId": "c11a6214-858a-49b0-d751-3f7367095f84"
      },
      "execution_count": null,
      "outputs": [
        {
          "output_type": "stream",
          "name": "stdout",
          "text": [
            "Requirement already satisfied: edge-tts in /usr/local/lib/python3.10/dist-packages (6.1.12)\n",
            "Requirement already satisfied: aiohttp>=3.8.0 in /usr/local/lib/python3.10/dist-packages (from edge-tts) (3.10.5)\n",
            "Requirement already satisfied: certifi>=2023.11.17 in /usr/local/lib/python3.10/dist-packages (from edge-tts) (2024.8.30)\n",
            "Requirement already satisfied: aiohappyeyeballs>=2.3.0 in /usr/local/lib/python3.10/dist-packages (from aiohttp>=3.8.0->edge-tts) (2.4.0)\n",
            "Requirement already satisfied: aiosignal>=1.1.2 in /usr/local/lib/python3.10/dist-packages (from aiohttp>=3.8.0->edge-tts) (1.3.1)\n",
            "Requirement already satisfied: attrs>=17.3.0 in /usr/local/lib/python3.10/dist-packages (from aiohttp>=3.8.0->edge-tts) (24.2.0)\n",
            "Requirement already satisfied: frozenlist>=1.1.1 in /usr/local/lib/python3.10/dist-packages (from aiohttp>=3.8.0->edge-tts) (1.4.1)\n",
            "Requirement already satisfied: multidict<7.0,>=4.5 in /usr/local/lib/python3.10/dist-packages (from aiohttp>=3.8.0->edge-tts) (6.0.5)\n",
            "Requirement already satisfied: yarl<2.0,>=1.0 in /usr/local/lib/python3.10/dist-packages (from aiohttp>=3.8.0->edge-tts) (1.11.1)\n",
            "Requirement already satisfied: async-timeout<5.0,>=4.0 in /usr/local/lib/python3.10/dist-packages (from aiohttp>=3.8.0->edge-tts) (4.0.3)\n",
            "Requirement already satisfied: idna>=2.0 in /usr/local/lib/python3.10/dist-packages (from yarl<2.0,>=1.0->aiohttp>=3.8.0->edge-tts) (3.8)\n",
            "Requirement already satisfied: pdfplumber in /usr/local/lib/python3.10/dist-packages (0.11.4)\n",
            "Requirement already satisfied: pdfminer.six==20231228 in /usr/local/lib/python3.10/dist-packages (from pdfplumber) (20231228)\n",
            "Requirement already satisfied: Pillow>=9.1 in /usr/local/lib/python3.10/dist-packages (from pdfplumber) (9.4.0)\n",
            "Requirement already satisfied: pypdfium2>=4.18.0 in /usr/local/lib/python3.10/dist-packages (from pdfplumber) (4.30.0)\n",
            "Requirement already satisfied: charset-normalizer>=2.0.0 in /usr/local/lib/python3.10/dist-packages (from pdfminer.six==20231228->pdfplumber) (3.3.2)\n",
            "Requirement already satisfied: cryptography>=36.0.0 in /usr/local/lib/python3.10/dist-packages (from pdfminer.six==20231228->pdfplumber) (43.0.1)\n",
            "Requirement already satisfied: cffi>=1.12 in /usr/local/lib/python3.10/dist-packages (from cryptography>=36.0.0->pdfminer.six==20231228->pdfplumber) (1.17.1)\n",
            "Requirement already satisfied: pycparser in /usr/local/lib/python3.10/dist-packages (from cffi>=1.12->cryptography>=36.0.0->pdfminer.six==20231228->pdfplumber) (2.22)\n"
          ]
        }
      ]
    },
    {
      "cell_type": "markdown",
      "source": [
        "### 2. Importing Libraries\n"
      ],
      "metadata": {
        "id": "bedYzLO00q3Q"
      }
    },
    {
      "cell_type": "code",
      "source": [
        "import asyncio\n",
        "import edge_tts\n",
        "import pdfplumber\n",
        "import re\n",
        "import nest_asyncio"
      ],
      "metadata": {
        "id": "DoUebIu83N6-"
      },
      "execution_count": null,
      "outputs": []
    },
    {
      "cell_type": "markdown",
      "source": [
        "### 3. PDF to Text Conversion\n"
      ],
      "metadata": {
        "id": "B_rVyqfb0q3R"
      }
    },
    {
      "cell_type": "code",
      "source": [
        "def pdf_to_text_plumber(pdf_path):\n",
        "    text = ''\n",
        "    # Open and read PDF file page by page\n",
        "    with pdfplumber.open(pdf_path) as pdf:\n",
        "        for page in pdf.pages:\n",
        "            page_text = page.extract_text()\n",
        "            if page_text:\n",
        "                text += page_text\n",
        "    return text\n",
        "\n",
        "# Specify the path to the PDF file\n",
        "pdf_path = r\"your_pdf_path.pdf\"\n",
        "\n",
        "# Extract the text from the PDF\n",
        "TEXT = pdf_to_text_plumber(pdf_path)\n",
        "\n",
        "# Display a snippet of the extracted text\n",
        "print(TEXT[:500])  # Show the first 500 characters\n"
      ],
      "metadata": {
        "trusted": true,
        "colab": {
          "base_uri": "https://localhost:8080/"
        },
        "id": "rmbMLMez0q3R",
        "outputId": "48930fa5-fb3a-4c03-e3a9-75140ee2d0fd"
      },
      "execution_count": null,
      "outputs": [
        {
          "output_type": "stream",
          "name": "stdout",
          "text": [
            "Book Summary\n",
            "PENGUIN BOOKS GREAT IDEAS Meditations . Marcus Aurelius AD 121180 Meditations\n",
            "translated by Maxwell Staniforth p cmGreat ideas . This translation first published in Penguin\n",
            "Classics 1964 . Manliness without ostentation I learnt from what I have heard and remember of my\n",
            "father . My mother set me an example of piety and generosity avoidance of all uncharitableness . To\n",
            "my greatgrandfather I owed the advice to dispense with the education of the schools and have good\n",
            "masters at home . A\n"
          ]
        }
      ]
    },
    {
      "cell_type": "markdown",
      "source": [
        "### 4. Define Available Voices for Different Languages"
      ],
      "metadata": {
        "id": "jCWcakaM0q3R"
      }
    },
    {
      "cell_type": "code",
      "source": [
        "# Define available voices and languages\n",
        "VOICES = {\n",
        "    'en': ['en-US-GuyNeural', 'en-US-JennyNeural'],\n",
        "    'af': ['af-ZA-AdriNeural'],\n",
        "    'bn': ['bn-IN-BashkarNeural', 'bn-IN-TanishaaNeural'],\n",
        "    'bs': ['bs-BA-GoranNeural', 'bs-BA-VesnaNeural'],\n",
        "    'bg': ['bg-BG-BorislavNeural', 'bg-BG-KalinaNeural'],\n",
        "    'my': ['my-MM-NilarNeural', 'my-MM-ThihaNeural'],\n",
        "    'ca': ['ca-ES-EnricNeural', 'ca-ES-JoanaNeural'],\n",
        "    'zh': ['zh-HK-HiuGaaiNeural', 'zh-HK-HiuMaanNeural', 'zh-HK-WanLungNeural'],\n",
        "    'hr': ['hr-HR-GabrijelaNeural', 'hr-HR-SreckoNeural'],\n",
        "    'cs': ['cs-CZ-AntoninNeural', 'cs-CZ-VlastaNeural'],\n",
        "    'da': ['da-DK-ChristelNeural', 'da-DK-JeppeNeural'],\n",
        "}\n"
      ],
      "metadata": {
        "trusted": true,
        "id": "Ybk1YcEE0q3R"
      },
      "execution_count": null,
      "outputs": []
    },
    {
      "cell_type": "markdown",
      "source": [
        "### 5. Function to Select a Voice for Text-to-Speech"
      ],
      "metadata": {
        "id": "RJ6MPytE0q3S"
      }
    },
    {
      "cell_type": "code",
      "source": [
        "def select_voice():\n",
        "    # Default to English and Guy Neural voice without asking any questions\n",
        "    lang_code = 'en'\n",
        "    voice = 'en-US-GuyNeural'\n",
        "    return lang_code, voice\n",
        "\n",
        "# Select the default language and voice\n",
        "lang_code, voice = select_voice()\n",
        "print(f\"Selected language: {lang_code}, Voice: {voice}\")\n"
      ],
      "metadata": {
        "trusted": true,
        "colab": {
          "base_uri": "https://localhost:8080/"
        },
        "id": "NJsrtYkv0q3S",
        "outputId": "f1ce0bb7-14c2-47f9-ecf2-22c542dbcfa0"
      },
      "execution_count": null,
      "outputs": [
        {
          "output_type": "stream",
          "name": "stdout",
          "text": [
            "Selected language: en, Voice: en-US-GuyNeural\n"
          ]
        }
      ]
    },
    {
      "cell_type": "markdown",
      "source": [
        "### 7. Asynchronous Function for Text-to-Speech Conversion"
      ],
      "metadata": {
        "id": "tbsJFdMr0q3S"
      }
    },
    {
      "cell_type": "code",
      "source": [
        "async def amain(text, voice, output_file):\n",
        "    # Adjust voice speed using the rate parameter\n",
        "    communicate = edge_tts.Communicate(text, voice)\n",
        "    await communicate.save(output_file)"
      ],
      "metadata": {
        "trusted": true,
        "id": "RR3kOAcK0q3S"
      },
      "execution_count": null,
      "outputs": []
    },
    {
      "cell_type": "markdown",
      "source": [
        "### 8. Main Function to Execute Text-to-Speech Conversion"
      ],
      "metadata": {
        "id": "t-ydhDqZ0q3S"
      }
    },
    {
      "cell_type": "code",
      "source": [
        "def main():\n",
        "    # Automatically use default voice and language\n",
        "    lang_code, voice = select_voice()\n",
        "\n",
        "    # Set the desired speed of the voice (e.g., \"-50%\" for slower, \"50%\" for faster)\n",
        "    voice_speed = \"0%\"  # Modify this value to control speed\n",
        "\n",
        "    output_file = \"test.mp3\"\n",
        "    asyncio.run(amain(TEXT, voice, output_file))\n",
        "    print(f\"Audio saved to {output_file}\")\n",
        "\n",
        "if __name__ == \"__main__\":\n",
        "    main()\n"
      ],
      "metadata": {
        "trusted": true,
        "colab": {
          "base_uri": "https://localhost:8080/"
        },
        "id": "_UPM06-F0q3S",
        "outputId": "d4bbbea4-4f76-441a-f16c-106af0652423"
      },
      "execution_count": null,
      "outputs": [
        {
          "output_type": "stream",
          "name": "stdout",
          "text": [
            "Audio saved to test.mp3\n"
          ]
        }
      ]
    }
  ]
}